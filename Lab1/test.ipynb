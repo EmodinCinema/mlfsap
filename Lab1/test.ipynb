{
 "cells": [
  {
   "cell_type": "code",
   "execution_count": 1,
   "id": "e0784a9c-c6ae-4137-8153-bd1c319b4217",
   "metadata": {},
   "outputs": [
    {
     "name": "stderr",
     "output_type": "stream",
     "text": [
      "WARNING  Ultralytics settings reset to defaults. This is normal and may be due to a recent ultralytics package update, but may have overwritten previous settings. \n",
      "View and update settings with 'yolo settings' or at 'C:\\Users\\User\\AppData\\Roaming\\Ultralytics\\settings.yaml'\n"
     ]
    }
   ],
   "source": [
    "from ultralytics import YOLO"
   ]
  },
  {
   "cell_type": "code",
   "execution_count": 2,
   "id": "2762611e-6904-4f83-b401-5e4d9ca4aa4c",
   "metadata": {},
   "outputs": [],
   "source": [
    "config = './edu_test.yaml'"
   ]
  },
  {
   "cell_type": "code",
   "execution_count": 1,
   "id": "2d620367-f435-426b-bc17-a56933092fc0",
   "metadata": {},
   "outputs": [],
   "source": [
    "model = YOLO(\"path/to/weight\")\n",
    "model.val(data=config, v5loader=True, project='tests', name='yolov3-tiny', imgsz=640)"
   ]
  }
 ],
 "metadata": {
  "kernelspec": {
   "display_name": "mlfsap2",
   "language": "python",
   "name": "python3"
  },
  "language_info": {
   "codemirror_mode": {
    "name": "ipython",
    "version": 3
   },
   "file_extension": ".py",
   "mimetype": "text/x-python",
   "name": "python",
   "nbconvert_exporter": "python",
   "pygments_lexer": "ipython3",
   "version": "3.11.2"
  }
 },
 "nbformat": 4,
 "nbformat_minor": 5
}
