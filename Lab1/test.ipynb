{
 "cells": [
  {
   "cell_type": "code",
   "execution_count": 1,
   "id": "e0784a9c-c6ae-4137-8153-bd1c319b4217",
   "metadata": {},
   "outputs": [],
   "source": [
    "from ultralytics import YOLO"
   ]
  },
  {
   "cell_type": "code",
   "execution_count": 2,
   "id": "2762611e-6904-4f83-b401-5e4d9ca4aa4c",
   "metadata": {},
   "outputs": [],
   "source": [
    "config = './edu_test.yaml'"
   ]
  },
  {
   "cell_type": "code",
   "execution_count": 3,
   "id": "2d620367-f435-426b-bc17-a56933092fc0",
   "metadata": {},
   "outputs": [
    {
     "name": "stderr",
     "output_type": "stream",
     "text": [
      "Ultralytics YOLOv8.0.81  Python-3.11.2 torch-2.0.0+cpu CPU\n",
      "YOLOv3-tiny summary (fused): 63 layers, 12158504 parameters, 0 gradients, 19.0 GFLOPs\n",
      "\u001b[34m\u001b[1mval: \u001b[0mScanning C:\\Users\\User\\jupyter_notebook\\mlfsap2\\datasets\\labels\\val.cache... 662 images, 0 backgrounds, 0 corrupt: 100%|██████████| 662/662 [00:00<?, ?it/s]\n",
      "\u001b[34m\u001b[1mval: \u001b[0mWARNING  C:\\Users\\User\\jupyter_notebook\\mlfsap2\\datasets\\images\\val\\C247_D2_P2.jpg: 1 duplicate labels removed\n",
      "                 Class     Images  Instances      Box(P          R      mAP50  mAP50-95): 100%|██████████| 42/42 [13:38<00:00, 19.49s/it]\n",
      "                   all        662      56350       0.78      0.603      0.666      0.453\n",
      "                  text        662      20328      0.781      0.452      0.548       0.32\n",
      "              junction        662      19016      0.837      0.176      0.378       0.16\n",
      "             crossover        662       2157      0.793     0.0888      0.184     0.0768\n",
      "              terminal        662       2253       0.82      0.297      0.396      0.192\n",
      "                   gnd        662       1304      0.838      0.525       0.62      0.381\n",
      "                   vss        662        297      0.624     0.0727      0.159     0.0761\n",
      "            voltage.dc        662         63        0.8      0.683      0.744      0.617\n",
      "            voltage.ac        662         57      0.782      0.807      0.853      0.709\n",
      "       voltage.battery        662        154      0.628      0.597      0.581      0.362\n",
      "              resistor        662       3530      0.858      0.632      0.741      0.466\n",
      "   resistor.adjustable        662        263      0.746      0.379      0.515      0.238\n",
      "        resistor.photo        662          9      0.675      0.924      0.937      0.746\n",
      " capacitor.unpolarized        662       1356      0.774      0.549      0.664      0.374\n",
      "   capacitor.polarized        662        581      0.704      0.482      0.542       0.29\n",
      "  capacitor.adjustable        662         26       0.64      0.346      0.572      0.339\n",
      "              inductor        662        218      0.766      0.578      0.623      0.389\n",
      "      inductor.ferrite        662         60      0.734       0.65      0.657       0.39\n",
      "           transformer        662        138      0.762      0.797      0.801       0.53\n",
      "                 diode        662       1023      0.802       0.68      0.774      0.456\n",
      "  diode.light_emitting        662        295      0.707      0.559      0.606      0.354\n",
      "       diode.thyrector        662          2      0.786          1      0.995      0.647\n",
      "           diode.zener        662        165      0.831      0.503      0.622      0.402\n",
      "                  diac        662          4          1          0       0.36      0.223\n",
      "                 triac        662         28      0.895      0.929      0.908      0.513\n",
      "             thyristor        662        128      0.907      0.828      0.926      0.582\n",
      "              varistor        662         51      0.856      0.882      0.921      0.692\n",
      "        transistor.bjt        662        893      0.881      0.868      0.899      0.594\n",
      "        transistor.fet        662        290      0.831      0.872      0.883      0.536\n",
      "      transistor.photo        662         29      0.576      0.562      0.629      0.399\n",
      " operational_amplifier        662        151      0.785      0.901      0.888      0.606\n",
      "operational_amplifier.schmitt_trigger        662          6      0.786          1      0.995      0.856\n",
      "           optocoupler        662         38      0.666      0.763      0.753      0.496\n",
      "    integrated_circuit        662        246      0.671      0.728      0.701      0.525\n",
      "integrated_circuit.ne555        662         64      0.913      0.984      0.989       0.83\n",
      "integrated_circuit.voltage_regulator        662         63      0.583       0.81      0.632      0.433\n",
      "                   xor        662         28      0.717       0.75       0.67      0.544\n",
      "                   and        662         61      0.785      0.839      0.853      0.642\n",
      "                    or        662         34      0.788      0.912      0.919      0.813\n",
      "                   not        662         94      0.848      0.713      0.729      0.544\n",
      "                  nand        662         58      0.904      0.489      0.733      0.475\n",
      "                   nor        662         12      0.937          1      0.995      0.875\n",
      "         probe.current        662         17      0.883      0.529      0.606      0.496\n",
      "         probe.voltage        662          2          1      0.845      0.995        0.5\n",
      "                switch        662        365      0.649      0.386      0.437      0.211\n",
      "                 relay        662         19      0.504      0.526       0.63      0.387\n",
      "                socket        662         69       0.87      0.583      0.861      0.483\n",
      "                  fuse        662         53      0.679       0.24       0.41      0.293\n",
      "               speaker        662        103      0.845      0.806      0.837      0.602\n",
      "                 motor        662         20      0.644      0.452      0.574      0.446\n",
      "                  lamp        662         44      0.801      0.822      0.845      0.646\n",
      "            microphone        662          7      0.437      0.857      0.819      0.658\n",
      "               antenna        662          6          1      0.652      0.758      0.464\n",
      "               crystal        662         34       0.34      0.197      0.158      0.102\n",
      "              magnetic        662         13          1          0          0          0\n",
      "               optical        662         14          1          0     0.0272     0.0163\n",
      "               unknown        662         11          1       0.27      0.454      0.348\n",
      "Speed: 6.3ms preprocess, 898.8ms inference, 0.0ms loss, 6.7ms postprocess per image\n",
      "Results saved to \u001b[1mtests\\yolov3-tiny4\u001b[0m\n"
     ]
    },
    {
     "data": {
      "text/plain": [
       "ultralytics.yolo.utils.metrics.DetMetrics object with attributes:\n",
       "\n",
       "ap_class_index: array([ 1,  2,  3,  4,  5,  6,  7,  8,  9, 10, 11, 12, 13, 14, 15, 16, 17, 19, 20, 21, 22, 23, 24, 25, 26, 27, 28, 29, 30, 31, 32, 33, 34, 35, 36, 37, 38, 39, 40, 41, 42, 43, 44, 45, 46, 47, 48, 49, 50, 51, 52, 53, 54, 56, 57, 59])\n",
       "box: ultralytics.yolo.utils.metrics.Metric object\n",
       "confusion_matrix: <ultralytics.yolo.utils.metrics.ConfusionMatrix object at 0x000001C172CD6C90>\n",
       "fitness: 0.4739604884041771\n",
       "keys: ['metrics/precision(B)', 'metrics/recall(B)', 'metrics/mAP50(B)', 'metrics/mAP50-95(B)']\n",
       "maps: array([     0.4526,     0.31975,     0.15977,    0.076757,     0.19212,     0.38092,     0.07608,     0.61706,     0.70908,     0.36223,     0.46601,     0.23809,     0.74646,     0.37419,     0.29049,     0.33873,     0.38885,     0.39005,      0.4526,     0.52967,     0.45579,     0.35379,      0.6466,      0.4025,\n",
       "           0.22258,      0.5127,     0.58167,     0.69184,     0.59409,     0.53638,     0.39887,       0.606,     0.85633,     0.49611,     0.52511,     0.83033,     0.43338,     0.54404,     0.64209,     0.81326,     0.54446,     0.47522,     0.87532,      0.4955,     0.49973,      0.2113,     0.38687,     0.48301,\n",
       "           0.29284,     0.60214,     0.44559,     0.64564,     0.65788,     0.46404,     0.10247,      0.4526,           0,    0.016316,      0.4526,      0.3477])\n",
       "names: {0: '__background__', 1: 'text', 2: 'junction', 3: 'crossover', 4: 'terminal', 5: 'gnd', 6: 'vss', 7: 'voltage.dc', 8: 'voltage.ac', 9: 'voltage.battery', 10: 'resistor', 11: 'resistor.adjustable', 12: 'resistor.photo', 13: 'capacitor.unpolarized', 14: 'capacitor.polarized', 15: 'capacitor.adjustable', 16: 'inductor', 17: 'inductor.ferrite', 18: 'inductor.coupled', 19: 'transformer', 20: 'diode', 21: 'diode.light_emitting', 22: 'diode.thyrector', 23: 'diode.zener', 24: 'diac', 25: 'triac', 26: 'thyristor', 27: 'varistor', 28: 'transistor.bjt', 29: 'transistor.fet', 30: 'transistor.photo', 31: 'operational_amplifier', 32: 'operational_amplifier.schmitt_trigger', 33: 'optocoupler', 34: 'integrated_circuit', 35: 'integrated_circuit.ne555', 36: 'integrated_circuit.voltage_regulator', 37: 'xor', 38: 'and', 39: 'or', 40: 'not', 41: 'nand', 42: 'nor', 43: 'probe.current', 44: 'probe.voltage', 45: 'switch', 46: 'relay', 47: 'socket', 48: 'fuse', 49: 'speaker', 50: 'motor', 51: 'lamp', 52: 'microphone', 53: 'antenna', 54: 'crystal', 55: 'mechanical', 56: 'magnetic', 57: 'optical', 58: 'block', 59: 'unknown'}\n",
       "plot: True\n",
       "results_dict: {'metrics/precision(B)': 0.7798526741336954, 'metrics/recall(B)': 0.6030958229070149, 'metrics/mAP50(B)': 0.6661683441508074, 'metrics/mAP50-95(B)': 0.45260405998788483, 'fitness': 0.4739604884041771}\n",
       "save_dir: WindowsPath('tests/yolov3-tiny4')\n",
       "speed: {'preprocess': 6.273088138269154, 'inference': 898.8020142759801, 'loss': 0.0, 'postprocess': 6.6871657472362696}"
      ]
     },
     "execution_count": 3,
     "metadata": {},
     "output_type": "execute_result"
    }
   ],
   "source": [
    "model = YOLO(\"runs/detect/yolov3-tiny8/weights/best.pt\")\n",
    "model.val(data=config, v5loader=True, project='tests', name='yolov3-tiny', imgsz=640)"
   ]
  }
 ],
 "metadata": {
  "kernelspec": {
   "display_name": "mlfsap2",
   "language": "python",
   "name": "python3"
  },
  "language_info": {
   "codemirror_mode": {
    "name": "ipython",
    "version": 3
   },
   "file_extension": ".py",
   "mimetype": "text/x-python",
   "name": "python",
   "nbconvert_exporter": "python",
   "pygments_lexer": "ipython3",
   "version": "3.11.2"
  }
 },
 "nbformat": 4,
 "nbformat_minor": 5
}
