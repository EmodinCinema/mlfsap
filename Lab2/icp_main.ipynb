{
 "cells": [
  {
   "cell_type": "code",
   "execution_count": 1,
   "metadata": {},
   "outputs": [],
   "source": [
    "import numpy as np\n",
    "\n",
    "from pyoints import (\n",
    "    storage,\n",
    "    Extent,\n",
    "    transformation,\n",
    "    filters,\n",
    "    registration,\n",
    "    normals,\n",
    ")"
   ]
  },
  {
   "cell_type": "code",
   "execution_count": 2,
   "metadata": {},
   "outputs": [],
   "source": [
    "import plotly.express as px\n",
    "import plotly.graph_objects as go\n",
    "import pandas as pd\n",
    "from copy import copy"
   ]
  },
  {
   "cell_type": "code",
   "execution_count": null,
   "metadata": {},
   "outputs": [],
   "source": [
    "from mpl_toolkits import mplot3d\n",
    "import matplotlib.pyplot as plt\n",
    "from matplotlib import animation\n",
    "from IPython.display import HTML\n",
    "\n",
    "%matplotlib inline"
   ]
  },
  {
   "attachments": {},
   "cell_type": "markdown",
   "metadata": {},
   "source": [
    "# Подготовка "
   ]
  },
  {
   "cell_type": "code",
   "execution_count": null,
   "metadata": {},
   "outputs": [
    {
     "ename": "",
     "evalue": "",
     "output_type": "error",
     "traceback": [
      "\u001b[1;31mFailed to start the Kernel. \n",
      "\u001b[1;31mUnable to start Kernel 'icp_edu (Python 3.6.13)' due to connection timeout. \n",
      "\u001b[1;31mView Jupyter <a href='command:jupyter.viewOutput'>log</a> for further details."
     ]
    }
   ],
   "source": [
    "A = storage.loadPly('./data/ArmadilloBack/ArmadilloBack_0.ply')\n",
    "B = storage.loadPly('./data/ArmadilloBack/ArmadilloBack_30.ply')\n",
    "C = storage.loadPly('./data/ArmadilloBack/ArmadilloBack_60.ply')\n",
    "\n",
    "print('A:', A.shape, A.dtype.descr, '\\nB:', B.shape, B.dtype.descr, '\\nC:', C.shape, C.dtype.descr)"
   ]
  },
  {
   "cell_type": "code",
   "execution_count": null,
   "metadata": {},
   "outputs": [
    {
     "ename": "",
     "evalue": "",
     "output_type": "error",
     "traceback": [
      "\u001b[1;31mFailed to start the Kernel. \n",
      "\u001b[1;31mUnable to start Kernel 'icp_edu (Python 3.6.13)' due to connection timeout. \n",
      "\u001b[1;31mView Jupyter <a href='command:jupyter.viewOutput'>log</a> for further details."
     ]
    }
   ],
   "source": [
    "r = 0.3\n",
    "A = A[list(filters.ball(A.indexKD(), r))]\n",
    "B = B[list(filters.ball(B.indexKD(), r))]\n",
    "C = C[list(filters.ball(C.indexKD(), r))]\n",
    "\n",
    "print('A:', A.shape, A.dtype.descr, '\\nB:', B.shape, B.dtype.descr, '\\nC:', C.shape, C.dtype.descr)"
   ]
  },
  {
   "cell_type": "code",
   "execution_count": null,
   "metadata": {},
   "outputs": [
    {
     "ename": "",
     "evalue": "",
     "output_type": "error",
     "traceback": [
      "\u001b[1;31mFailed to start the Kernel. \n",
      "\u001b[1;31mUnable to start Kernel 'icp_edu (Python 3.6.13)' due to connection timeout. \n",
      "\u001b[1;31mView Jupyter <a href='command:jupyter.viewOutput'>log</a> for further details."
     ]
    }
   ],
   "source": [
    "def plot(**clouds):\n",
    "    coord_df = pd.DataFrame()\n",
    "    \n",
    "    for key in clouds:\n",
    "        coords_dict = {\n",
    "            'x': clouds[key].coords.T[0,].tolist(),\n",
    "            'y': clouds[key].coords.T[1,].tolist(),\n",
    "            'z': clouds[key].coords.T[2,].tolist()\n",
    "        }\n",
    "        \n",
    "        coords_dict['cloud'] = [key for _ in range(len(coords_dict['x']))]\n",
    "        \n",
    "        coord_df = pd.concat((coord_df, pd.DataFrame(coords_dict)), ignore_index=True)\n",
    "        \n",
    "    fig = px.scatter_3d(coord_df, x='x', y='y', z='z', color='cloud')\n",
    "    \n",
    "    fig.update_layout(\n",
    "        width=1200,\n",
    "        height=1000\n",
    "    )\n",
    "    \n",
    "    fig.update_traces(marker_size = 5)\n",
    "\n",
    "    fig.show()"
   ]
  },
  {
   "cell_type": "code",
   "execution_count": null,
   "metadata": {},
   "outputs": [
    {
     "ename": "",
     "evalue": "",
     "output_type": "error",
     "traceback": [
      "\u001b[1;31mFailed to start the Kernel. \n",
      "\u001b[1;31mUnable to start Kernel 'icp_edu (Python 3.6.13)' due to connection timeout. \n",
      "\u001b[1;31mView Jupyter <a href='command:jupyter.viewOutput'>log</a> for further details."
     ]
    }
   ],
   "source": [
    "plot(A=A, B=B, C=C)"
   ]
  },
  {
   "attachments": {},
   "cell_type": "markdown",
   "metadata": {},
   "source": [
    "## Трансформации"
   ]
  },
  {
   "cell_type": "code",
   "execution_count": null,
   "metadata": {},
   "outputs": [
    {
     "ename": "",
     "evalue": "",
     "output_type": "error",
     "traceback": [
      "\u001b[1;31mFailed to start the Kernel. \n",
      "\u001b[1;31mUnable to start Kernel 'icp_edu (Python 3.6.13)' due to connection timeout. \n",
      "\u001b[1;31mView Jupyter <a href='command:jupyter.viewOutput'>log</a> for further details."
     ]
    }
   ],
   "source": [
    "transforms = {\n",
    "    'best': ([0, 0, 0], [-40*np.pi/180, -180*np.pi/180, 0], [0, -30*np.pi/180, -10*np.pi/180]),\n",
    "    'v1': ([0, 0, 0], [-35*np.pi/180, -185*np.pi/180, 0], [0, -33*np.pi/180, 0]),\n",
    "    'v2': ([0, 0, 0], [-44*np.pi/180, -177*np.pi/180, 0], [0, -31*np.pi/180, 3*np.pi/180]),\n",
    "    'v3': ([0, 0, 0], [-39*np.pi/180, -182*np.pi/180, 2*np.pi/180], [0, -28*np.pi/180, 0]),\n",
    "}"
   ]
  },
  {
   "cell_type": "code",
   "execution_count": null,
   "metadata": {},
   "outputs": [
    {
     "ename": "",
     "evalue": "",
     "output_type": "error",
     "traceback": [
      "\u001b[1;31mFailed to start the Kernel. \n",
      "\u001b[1;31mUnable to start Kernel 'icp_edu (Python 3.6.13)' due to connection timeout. \n",
      "\u001b[1;31mView Jupyter <a href='command:jupyter.viewOutput'>log</a> for further details."
     ]
    }
   ],
   "source": [
    "A_2 = copy(A)\n",
    "B_2 = copy(B)\n",
    "C_2 = copy(C)\n",
    "\n",
    "transform = transforms['v1']\n",
    "T_A = transformation.r_matrix(transform[0])\n",
    "A_2.transform(T_A)\n",
    "T_B = transformation.r_matrix(transform[1])\n",
    "B_2.transform(T_B)\n",
    "T_C = transformation.r_matrix(transform[2])\n",
    "C_2.transform(T_C);"
   ]
  },
  {
   "cell_type": "code",
   "execution_count": null,
   "metadata": {},
   "outputs": [
    {
     "ename": "",
     "evalue": "",
     "output_type": "error",
     "traceback": [
      "\u001b[1;31mFailed to start the Kernel. \n",
      "\u001b[1;31mUnable to start Kernel 'icp_edu (Python 3.6.13)' due to connection timeout. \n",
      "\u001b[1;31mView Jupyter <a href='command:jupyter.viewOutput'>log</a> for further details."
     ]
    }
   ],
   "source": [
    "plot(axes_lims=axes_lims, A=A_2, B=B_2, C=C_2)"
   ]
  },
  {
   "attachments": {},
   "cell_type": "markdown",
   "metadata": {},
   "source": [
    "# ICP алгоритм"
   ]
  },
  {
   "cell_type": "code",
   "execution_count": null,
   "metadata": {},
   "outputs": [
    {
     "ename": "",
     "evalue": "",
     "output_type": "error",
     "traceback": [
      "\u001b[1;31mFailed to start the Kernel. \n",
      "\u001b[1;31mUnable to start Kernel 'icp_edu (Python 3.6.13)' due to connection timeout. \n",
      "\u001b[1;31mView Jupyter <a href='command:jupyter.viewOutput'>log</a> for further details."
     ]
    }
   ],
   "source": [
    "def plot(title='', **clouds):\n",
    "    coord_df = pd.DataFrame()\n",
    "    for key in clouds:\n",
    "        coords_dict = {\n",
    "            'x': clouds[key].T[0,].tolist(),\n",
    "            'y': clouds[key].T[1,].tolist(),\n",
    "            'z': clouds[key].T[2,].tolist()\n",
    "        }\n",
    "        coords_dict['cloud'] = [key for _ in range(len(coords_dict['x']))]\n",
    "        coord_df = pd.concat((coord_df, pd.DataFrame(coords_dict)), ignore_index=True)\n",
    "        \n",
    "    fig = px.scatter_3d(coord_df, x='x', y='y', z='z', color='cloud')\n",
    "    fig.update_layout(width=1200, height=1000, title=title)\n",
    "    \n",
    "    fig.update_traces(marker_size = 5)\n",
    "\n",
    "    fig.show()\n",
    "    \n",
    "    \n",
    "COLORS =['#3366CC', '#DC3912', '#FF9900', '#109618', '#990099', '#0099C6', '#DD4477', '#66AA00', '#B82E2E','#316395'] \n",
    "   \n",
    "   \n",
    "def get_rmse(results: dict, title='RMSE'):\n",
    "    results = pd.DataFrame(results)\n",
    "        \n",
    "    fig = go.Figure()\n",
    "\n",
    "    labels = [str(num) for num in range(1, len(results)+1)]\n",
    "    columns = results.columns.to_list()\n",
    "\n",
    "    bar_colors = COLORS[:len(columns)]\n",
    "    bar_colors = iter(bar_colors)\n",
    "\n",
    "    for column in columns:\n",
    "        values = [round(count, 3) for count in results[column]]\n",
    "        print(f'Final RMSE {column}:', values[-1])\n",
    "        fig.add_trace(go.Bar(x=labels, y=values, name=column, marker_color=next(bar_colors), text=values))\n",
    "        fig.update_layout(height=1000,width=2000, title=title, barmode='group')\n",
    "    fig.show()"
   ]
  },
  {
   "cell_type": "code",
   "execution_count": null,
   "metadata": {},
   "outputs": [
    {
     "ename": "",
     "evalue": "",
     "output_type": "error",
     "traceback": [
      "\u001b[1;31mFailed to start the Kernel. \n",
      "\u001b[1;31mUnable to start Kernel 'icp_edu (Python 3.6.13)' due to connection timeout. \n",
      "\u001b[1;31mView Jupyter <a href='command:jupyter.viewOutput'>log</a> for further details."
     ]
    }
   ],
   "source": [
    "%%time\n",
    "transforms = {\n",
    "    'best': ([0, 0, 0], [-40*np.pi/180, -180*np.pi/180, 0], [0, -30*np.pi/180, -10*np.pi/180]),\n",
    "    'v1': ([0, 0, 0], [-35*np.pi/180, -185*np.pi/180, 0], [0, -33*np.pi/180, 0]),\n",
    "    'v2': ([0, 0, 0], [-44*np.pi/180, -177*np.pi/180, 0], [0, -31*np.pi/180, 3*np.pi/180]),\n",
    "    'v3': ([0, 0, 0], [-39*np.pi/180, -182*np.pi/180, 2*np.pi/180], [0, -28*np.pi/180, 0]),\n",
    "}\n",
    "\n",
    "\n",
    "d_th = 2\n",
    "radii = [d_th, d_th, d_th]\n",
    "icp = registration.ICP(\n",
    "    radii,\n",
    "    max_iter=50,\n",
    "    max_change_ratio=0.00001,\n",
    "    k=1\n",
    ")\n",
    "\n",
    "reports = {}\n",
    "\n",
    "for transform_key in transforms:\n",
    "    A_2 = copy(A)\n",
    "    B_2 = copy(B)\n",
    "    C_2 = copy(C)\n",
    "\n",
    "    transform = transforms[transform_key]\n",
    "    T_A = transformation.r_matrix(transform[0])\n",
    "    A_2.transform(T_A)\n",
    "    T_B = transformation.r_matrix(transform[1])\n",
    "    B_2.transform(T_B)\n",
    "    T_C = transformation.r_matrix(transform[2])\n",
    "    C_2.transform(T_C)\n",
    "    \n",
    "    coords_dict = {\n",
    "        'A': A_2.coords,\n",
    "        'B': B_2.coords,\n",
    "        'C': C_2.coords\n",
    "    }\n",
    "    \n",
    "    T_dict, pairs_dict, report = icp(coords_dict)\n",
    "    \n",
    "    reports[transform_key] = report['RMSE']\n",
    "    \n",
    "    for key in coords_dict:\n",
    "        coords_dict[key] = transformation.transform(coords_dict[key], T_dict[key])\n",
    "    \n",
    "    \n",
    "    title = f'Transform {transform_key}'\n",
    "    plot(title=title, **coords_dict)\n",
    "    \n",
    "get_rmse(reports)\n",
    "    "
   ]
  },
  {
   "attachments": {},
   "cell_type": "markdown",
   "metadata": {},
   "source": [
    "# NICP алгоритм"
   ]
  },
  {
   "cell_type": "code",
   "execution_count": null,
   "metadata": {},
   "outputs": [
    {
     "ename": "",
     "evalue": "",
     "output_type": "error",
     "traceback": [
      "\u001b[1;31mFailed to start the Kernel. \n",
      "\u001b[1;31mUnable to start Kernel 'icp_edu (Python 3.6.13)' due to connection timeout. \n",
      "\u001b[1;31mView Jupyter <a href='command:jupyter.viewOutput'>log</a> for further details."
     ]
    }
   ],
   "source": [
    "coords_dict = {\n",
    "    'A': A.coords,\n",
    "    'B': B.coords,\n",
    "    'C': C.coords\n",
    "}\n",
    "\n",
    "normals_dict = {\n",
    "    key: normals.fit_normals(coords_dict[key], k=5, preferred=[0, -1, 0])\n",
    "    for key in coords_dict\n",
    "}\n",
    "\n",
    "\n",
    "fig = plt.figure(figsize=(15, 15))\n",
    "ax = plt.axes(projection='3d')\n",
    "ax.set_xlim(axes_lims[0], axes_lims[3])\n",
    "ax.set_ylim(axes_lims[1], axes_lims[4])\n",
    "ax.set_zlim(axes_lims[2], axes_lims[5])\n",
    "ax.set_xlabel('X')\n",
    "ax.set_ylabel('Y')\n",
    "ax.set_zlabel('Z')\n",
    "\n",
    "ax.scatter(*A.coords.T, c=normals_dict['A'][:, 2], cmap='coolwarm')\n",
    "for coord, normal in zip(coords_dict['A'], normals_dict['A']):\n",
    "    ax.plot(*np.vstack([coord, coord + normal*0.3]).T, color='black')\n",
    "plt.show()\n"
   ]
  },
  {
   "cell_type": "code",
   "execution_count": null,
   "metadata": {},
   "outputs": [
    {
     "ename": "",
     "evalue": "",
     "output_type": "error",
     "traceback": [
      "\u001b[1;31mFailed to start the Kernel. \n",
      "\u001b[1;31mUnable to start Kernel 'icp_edu (Python 3.6.13)' due to connection timeout. \n",
      "\u001b[1;31mView Jupyter <a href='command:jupyter.viewOutput'>log</a> for further details."
     ]
    }
   ],
   "source": [
    "%%time\n",
    "transforms = {\n",
    "    'best': ([0, 0, 0], [-40*np.pi/180, -180*np.pi/180, 0], [0, -30*np.pi/180, -10*np.pi/180]),\n",
    "    'v1': ([0, 0, 0], [-35*np.pi/180, -185*np.pi/180, 0], [0, -33*np.pi/180, 0]),\n",
    "    'v2': ([0, 0, 0], [-44*np.pi/180, -177*np.pi/180, 0], [0, -31*np.pi/180, 3*np.pi/180]),\n",
    "    'v3': ([0, 0, 0], [-39*np.pi/180, -182*np.pi/180, 2*np.pi/180], [0, -28*np.pi/180, 0]),\n",
    "}\n",
    "\n",
    "\n",
    "d_th = 2\n",
    "n_th = np.sin(15 * np.pi / 180)\n",
    "radii = [d_th, d_th, d_th, n_th, n_th, n_th]\n",
    "nicp = registration.ICP(\n",
    "    radii,\n",
    "    max_iter=50,\n",
    "    max_change_ratio=0.000001,\n",
    "    update_normals=True,\n",
    "    k=1\n",
    ")\n",
    "\n",
    "reports = {}\n",
    "\n",
    "for transform_key in transforms:\n",
    "    A_2 = copy(A)\n",
    "    B_2 = copy(B)\n",
    "    C_2 = copy(C)\n",
    "\n",
    "    transform = transforms[transform_key]\n",
    "    T_A = transformation.r_matrix(transform[0])\n",
    "    A_2.transform(T_A)\n",
    "    T_B = transformation.r_matrix(transform[1])\n",
    "    B_2.transform(T_B)\n",
    "    T_C = transformation.r_matrix(transform[2])\n",
    "    C_2.transform(T_C)\n",
    "    \n",
    "    coords_dict = {\n",
    "        'A': A_2.coords,\n",
    "        'B': B_2.coords,\n",
    "        'C': C_2.coords\n",
    "    }\n",
    "    \n",
    "    normals_dict = {\n",
    "        key: normals.fit_normals(coords_dict[key], k=5, preferred=[0, -1, 0])\n",
    "        for key in coords_dict\n",
    "    }\n",
    "    \n",
    "    T_dict, pairs_dict, report = nicp(coords_dict, normals_dict)\n",
    "    \n",
    "    reports[transform_key] = report['RMSE']\n",
    "    \n",
    "    for key in coords_dict:\n",
    "        coords_dict[key] = transformation.transform(coords_dict[key], T_dict[key])\n",
    "    \n",
    "    \n",
    "    title = f'Transform {transform_key}'\n",
    "    plot(title=title, **coords_dict)\n",
    "    \n",
    "get_rmse(reports)\n",
    "    "
   ]
  },
  {
   "attachments": {},
   "cell_type": "markdown",
   "metadata": {},
   "source": [
    "# Анимация"
   ]
  },
  {
   "cell_type": "code",
   "execution_count": null,
   "metadata": {},
   "outputs": [
    {
     "ename": "",
     "evalue": "",
     "output_type": "error",
     "traceback": [
      "\u001b[1;31mFailed to start the Kernel. \n",
      "\u001b[1;31mUnable to start Kernel 'icp_edu (Python 3.6.13)' due to connection timeout. \n",
      "\u001b[1;31mView Jupyter <a href='command:jupyter.viewOutput'>log</a> for further details."
     ]
    }
   ],
   "source": [
    "A_2 = copy(A)\n",
    "B_2 = copy(B)\n",
    "C_2 = copy(C)\n",
    "\n",
    "transform = transforms['v1']\n",
    "T_A = transformation.r_matrix(transform[0])\n",
    "A_2.transform(T_A)\n",
    "T_B = transformation.r_matrix(transform[1])\n",
    "B_2.transform(T_B)\n",
    "T_C = transformation.r_matrix(transform[2])\n",
    "C_2.transform(T_C)\n",
    "\n",
    "coords_dict = {\n",
    "    'A': A_2.coords,\n",
    "    'B': B_2.coords,\n",
    "    'C': C_2.coords\n",
    "}\n",
    "\n",
    "normals_dict = {\n",
    "    key: normals.fit_normals(coords_dict[key], k=5, preferred=[0, -1, 0])\n",
    "    for key in coords_dict\n",
    "}\n",
    "\n",
    "T_dict, pairs_dict, report = nicp(coords_dict, normals_dict)\n",
    "\n",
    "\n",
    "axes_lims = Extent([\n",
    "    A_2.extent().center - 0.5 * A_2.extent().ranges.max(),\n",
    "    A_2.extent().center + 0.5 * A_2.extent().ranges.max()\n",
    "])\n",
    "colors = {'A': 'green', 'B': 'blue', 'C': 'red'}\n",
    "\n",
    "fig = plt.figure(figsize=(8, 8))\n",
    "ax = plt.axes(projection='3d')\n",
    "ax.set_xlim(axes_lims[0], axes_lims[3])\n",
    "ax.set_ylim(axes_lims[1], axes_lims[4])\n",
    "ax.set_zlim(axes_lims[2], axes_lims[5])\n",
    "fig.tight_layout()\n",
    "\n",
    "# initializing plot\n",
    "artists={\n",
    "    key: ax.plot([],[],[], '.', color=colors[key], label=key)[0]\n",
    "    for key in coords_dict\n",
    "}\n",
    "ax.legend()\n",
    "\n",
    "# collecting the roto-translation matrices\n",
    "T_iter = [{key: np.eye(4) for key in coords_dict}] + report['T']\n",
    "\n",
    "def animate(i):\n",
    "    # updates the frame\n",
    "    ax.set_xlabel('Iteration %i' % i)\n",
    "    for key in coords_dict:\n",
    "            coords = transformation.transform(coords_dict[key], T_iter[i][key])\n",
    "            artists[key].set_data(coords[:, 0], coords[:, 1])\n",
    "            artists[key].set_3d_properties(coords[:, 2])\n",
    "    return artists.values()\n",
    "\n",
    "# creates the animation\n",
    "anim = animation.FuncAnimation(fig, animate, frames=range(len(T_iter)), interval=250, blit=True)\n",
    "\n",
    "# save as GIF\n",
    "anim.save('./data/nicp.gif', writer='pillow', fps=10)\n",
    "plt.close()\n",
    "# display as HTML (online version only)\n",
    "HTML(anim.to_jshtml())"
   ]
  },
  {
   "cell_type": "code",
   "execution_count": null,
   "metadata": {},
   "outputs": [
    {
     "ename": "",
     "evalue": "",
     "output_type": "error",
     "traceback": [
      "\u001b[1;31mFailed to start the Kernel. \n",
      "\u001b[1;31mUnable to start Kernel 'icp_edu (Python 3.6.13)' due to connection timeout. \n",
      "\u001b[1;31mView Jupyter <a href='command:jupyter.viewOutput'>log</a> for further details."
     ]
    }
   ],
   "source": []
  }
 ],
 "metadata": {
  "kernelspec": {
   "display_name": "Python 3 (ipykernel)",
   "language": "python",
   "name": "python3"
  },
  "language_info": {
   "codemirror_mode": {
    "name": "ipython",
    "version": 3
   },
   "file_extension": ".py",
   "mimetype": "text/x-python",
   "name": "python",
   "nbconvert_exporter": "python",
   "pygments_lexer": "ipython3",
   "version": "3.6.13"
  },
  "orig_nbformat": 4,
  "vscode": {
   "interpreter": {
    "hash": "1615e8607a2f2fce34b4cc2018e71c699db600b9a9106f7c3622bc2672d6d968"
   }
  }
 },
 "nbformat": 4,
 "nbformat_minor": 2
}
